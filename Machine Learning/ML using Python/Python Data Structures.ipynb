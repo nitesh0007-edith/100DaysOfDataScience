{
 "cells": [
  {
   "cell_type": "code",
   "execution_count": 1,
   "id": "ad526396",
   "metadata": {},
   "outputs": [
    {
     "data": {
      "text/plain": [
       "False"
      ]
     },
     "execution_count": 1,
     "metadata": {},
     "output_type": "execute_result"
    }
   ],
   "source": [
    "bool()"
   ]
  },
  {
   "cell_type": "code",
   "execution_count": 2,
   "id": "88fa5d1a",
   "metadata": {},
   "outputs": [
    {
     "data": {
      "text/plain": [
       "True"
      ]
     },
     "execution_count": 2,
     "metadata": {},
     "output_type": "execute_result"
    }
   ],
   "source": [
    "True"
   ]
  },
  {
   "cell_type": "code",
   "execution_count": 3,
   "id": "18f73344",
   "metadata": {},
   "outputs": [
    {
     "data": {
      "text/plain": [
       "False"
      ]
     },
     "execution_count": 3,
     "metadata": {},
     "output_type": "execute_result"
    }
   ],
   "source": [
    "False"
   ]
  },
  {
   "cell_type": "code",
   "execution_count": 4,
   "id": "36274546",
   "metadata": {},
   "outputs": [
    {
     "data": {
      "text/plain": [
       "bool"
      ]
     },
     "execution_count": 4,
     "metadata": {},
     "output_type": "execute_result"
    }
   ],
   "source": [
    "type(False)"
   ]
  },
  {
   "cell_type": "code",
   "execution_count": 8,
   "id": "27cc1798",
   "metadata": {},
   "outputs": [],
   "source": [
    "str=\"Nitesh Ranjan\""
   ]
  },
  {
   "cell_type": "code",
   "execution_count": 9,
   "id": "684740d7",
   "metadata": {},
   "outputs": [
    {
     "name": "stdout",
     "output_type": "stream",
     "text": [
      "False\n"
     ]
    }
   ],
   "source": [
    "print(str.isalnum())"
   ]
  },
  {
   "cell_type": "code",
   "execution_count": 10,
   "id": "dc75e9a9",
   "metadata": {},
   "outputs": [
    {
     "data": {
      "text/plain": [
       "True"
      ]
     },
     "execution_count": 10,
     "metadata": {},
     "output_type": "execute_result"
    }
   ],
   "source": [
    "str.startswith('N')"
   ]
  },
  {
   "cell_type": "code",
   "execution_count": 11,
   "id": "bb135c06",
   "metadata": {},
   "outputs": [
    {
     "data": {
      "text/plain": [
       "False"
      ]
     },
     "execution_count": 11,
     "metadata": {},
     "output_type": "execute_result"
    }
   ],
   "source": [
    "str.endswith('S')"
   ]
  },
  {
   "cell_type": "code",
   "execution_count": 12,
   "id": "67c8ea3c",
   "metadata": {},
   "outputs": [
    {
     "data": {
      "text/plain": [
       "True"
      ]
     },
     "execution_count": 12,
     "metadata": {},
     "output_type": "execute_result"
    }
   ],
   "source": [
    "True and True"
   ]
  },
  {
   "cell_type": "code",
   "execution_count": 13,
   "id": "b69f7db9",
   "metadata": {},
   "outputs": [
    {
     "data": {
      "text/plain": [
       "False"
      ]
     },
     "execution_count": 13,
     "metadata": {},
     "output_type": "execute_result"
    }
   ],
   "source": [
    "True and False"
   ]
  },
  {
   "cell_type": "code",
   "execution_count": 14,
   "id": "6f35657d",
   "metadata": {},
   "outputs": [
    {
     "data": {
      "text/plain": [
       "True"
      ]
     },
     "execution_count": 14,
     "metadata": {},
     "output_type": "execute_result"
    }
   ],
   "source": [
    "True or False"
   ]
  },
  {
   "cell_type": "code",
   "execution_count": 15,
   "id": "93432b14",
   "metadata": {},
   "outputs": [
    {
     "data": {
      "text/plain": [
       "True"
      ]
     },
     "execution_count": 15,
     "metadata": {},
     "output_type": "execute_result"
    }
   ],
   "source": [
    "True or True"
   ]
  },
  {
   "cell_type": "markdown",
   "id": "e3a84f66",
   "metadata": {},
   "source": [
    "# Lists"
   ]
  },
  {
   "cell_type": "code",
   "execution_count": 16,
   "id": "d443bec0",
   "metadata": {},
   "outputs": [],
   "source": [
    "l=[]"
   ]
  },
  {
   "cell_type": "code",
   "execution_count": 17,
   "id": "e58c86ed",
   "metadata": {},
   "outputs": [
    {
     "data": {
      "text/plain": [
       "list"
      ]
     },
     "execution_count": 17,
     "metadata": {},
     "output_type": "execute_result"
    }
   ],
   "source": [
    "type(l)"
   ]
  },
  {
   "cell_type": "code",
   "execution_count": 18,
   "id": "fd900861",
   "metadata": {},
   "outputs": [
    {
     "data": {
      "text/plain": [
       "list"
      ]
     },
     "execution_count": 18,
     "metadata": {},
     "output_type": "execute_result"
    }
   ],
   "source": [
    "type([])"
   ]
  },
  {
   "cell_type": "code",
   "execution_count": 20,
   "id": "d6ca83f3",
   "metadata": {},
   "outputs": [],
   "source": [
    "lst=list()"
   ]
  },
  {
   "cell_type": "code",
   "execution_count": 21,
   "id": "dd9a8f75",
   "metadata": {},
   "outputs": [
    {
     "data": {
      "text/plain": [
       "list"
      ]
     },
     "execution_count": 21,
     "metadata": {},
     "output_type": "execute_result"
    }
   ],
   "source": [
    "type(lst)"
   ]
  },
  {
   "cell_type": "code",
   "execution_count": 22,
   "id": "4f8aaeca",
   "metadata": {},
   "outputs": [],
   "source": [
    "lst=[\"N\",\"A\",100,200]"
   ]
  },
  {
   "cell_type": "code",
   "execution_count": 23,
   "id": "1e3996a9",
   "metadata": {},
   "outputs": [
    {
     "data": {
      "text/plain": [
       "['N', 'A', 100, 200]"
      ]
     },
     "execution_count": 23,
     "metadata": {},
     "output_type": "execute_result"
    }
   ],
   "source": [
    "lst"
   ]
  },
  {
   "cell_type": "code",
   "execution_count": 30,
   "id": "e78db3a3",
   "metadata": {},
   "outputs": [],
   "source": [
    "lst.append(\"Nitesh\")"
   ]
  },
  {
   "cell_type": "code",
   "execution_count": 32,
   "id": "71f04429",
   "metadata": {},
   "outputs": [],
   "source": [
    "lst.append([\"Anupriya\",\"Pagal\"])"
   ]
  },
  {
   "cell_type": "code",
   "execution_count": 33,
   "id": "edb0c95e",
   "metadata": {},
   "outputs": [
    {
     "data": {
      "text/plain": [
       "['N', 'A', 100, 200, 'Nitesh', 'Nitesh', ['Anupriya', 'Pagal']]"
      ]
     },
     "execution_count": 33,
     "metadata": {},
     "output_type": "execute_result"
    }
   ],
   "source": [
    "lst"
   ]
  },
  {
   "cell_type": "code",
   "execution_count": 27,
   "id": "3328878a",
   "metadata": {},
   "outputs": [
    {
     "data": {
      "text/plain": [
       "['N', 'A', 100, 200, 'Nitesh']"
      ]
     },
     "execution_count": 27,
     "metadata": {},
     "output_type": "execute_result"
    }
   ],
   "source": [
    "lst[:]"
   ]
  },
  {
   "cell_type": "code",
   "execution_count": 28,
   "id": "c45473f2",
   "metadata": {},
   "outputs": [
    {
     "data": {
      "text/plain": [
       "['A', 100, 200, 'Nitesh']"
      ]
     },
     "execution_count": 28,
     "metadata": {},
     "output_type": "execute_result"
    }
   ],
   "source": [
    "lst[1:]"
   ]
  },
  {
   "cell_type": "code",
   "execution_count": 29,
   "id": "2b584457",
   "metadata": {},
   "outputs": [
    {
     "data": {
      "text/plain": [
       "[100, 200]"
      ]
     },
     "execution_count": 29,
     "metadata": {},
     "output_type": "execute_result"
    }
   ],
   "source": [
    "lst[2:4]"
   ]
  },
  {
   "cell_type": "code",
   "execution_count": 34,
   "id": "e0e64719",
   "metadata": {},
   "outputs": [],
   "source": [
    "lst.insert(1,\"Ashish\")"
   ]
  },
  {
   "cell_type": "code",
   "execution_count": 35,
   "id": "7883f85c",
   "metadata": {},
   "outputs": [
    {
     "data": {
      "text/plain": [
       "['N', 'Ashish', 'A', 100, 200, 'Nitesh', 'Nitesh', ['Anupriya', 'Pagal']]"
      ]
     },
     "execution_count": 35,
     "metadata": {},
     "output_type": "execute_result"
    }
   ],
   "source": [
    "lst"
   ]
  },
  {
   "cell_type": "code",
   "execution_count": 36,
   "id": "fb7e27a9",
   "metadata": {},
   "outputs": [],
   "source": [
    "lst=[1,2,3,4]"
   ]
  },
  {
   "cell_type": "code",
   "execution_count": 37,
   "id": "53c4f6fc",
   "metadata": {},
   "outputs": [],
   "source": [
    "lst.extend([5,6])"
   ]
  },
  {
   "cell_type": "code",
   "execution_count": 38,
   "id": "2c555018",
   "metadata": {},
   "outputs": [
    {
     "data": {
      "text/plain": [
       "[1, 2, 3, 4, 5, 6]"
      ]
     },
     "execution_count": 38,
     "metadata": {},
     "output_type": "execute_result"
    }
   ],
   "source": [
    "lst"
   ]
  },
  {
   "cell_type": "code",
   "execution_count": 39,
   "id": "03df85ed",
   "metadata": {},
   "outputs": [
    {
     "data": {
      "text/plain": [
       "21"
      ]
     },
     "execution_count": 39,
     "metadata": {},
     "output_type": "execute_result"
    }
   ],
   "source": [
    "sum(lst)"
   ]
  },
  {
   "cell_type": "code",
   "execution_count": 40,
   "id": "19a0e864",
   "metadata": {},
   "outputs": [
    {
     "data": {
      "text/plain": [
       "6"
      ]
     },
     "execution_count": 40,
     "metadata": {},
     "output_type": "execute_result"
    }
   ],
   "source": [
    "lst.pop()"
   ]
  },
  {
   "cell_type": "code",
   "execution_count": 41,
   "id": "84f6781e",
   "metadata": {},
   "outputs": [
    {
     "data": {
      "text/plain": [
       "5"
      ]
     },
     "execution_count": 41,
     "metadata": {},
     "output_type": "execute_result"
    }
   ],
   "source": [
    "lst.pop(4)"
   ]
  },
  {
   "cell_type": "code",
   "execution_count": 42,
   "id": "05788b51",
   "metadata": {},
   "outputs": [
    {
     "data": {
      "text/plain": [
       "[1, 2, 3, 4]"
      ]
     },
     "execution_count": 42,
     "metadata": {},
     "output_type": "execute_result"
    }
   ],
   "source": [
    "lst"
   ]
  },
  {
   "cell_type": "code",
   "execution_count": 43,
   "id": "78b3d215",
   "metadata": {},
   "outputs": [],
   "source": [
    "lst=[1,2,1,1,2,3]"
   ]
  },
  {
   "cell_type": "code",
   "execution_count": 44,
   "id": "54ac4659",
   "metadata": {},
   "outputs": [
    {
     "data": {
      "text/plain": [
       "3"
      ]
     },
     "execution_count": 44,
     "metadata": {},
     "output_type": "execute_result"
    }
   ],
   "source": [
    "lst.count(1)"
   ]
  },
  {
   "cell_type": "code",
   "execution_count": 45,
   "id": "0e8f7b6c",
   "metadata": {},
   "outputs": [
    {
     "data": {
      "text/plain": [
       "6"
      ]
     },
     "execution_count": 45,
     "metadata": {},
     "output_type": "execute_result"
    }
   ],
   "source": [
    "len(lst)"
   ]
  },
  {
   "cell_type": "code",
   "execution_count": 48,
   "id": "7b773208",
   "metadata": {},
   "outputs": [
    {
     "data": {
      "text/plain": [
       "0"
      ]
     },
     "execution_count": 48,
     "metadata": {},
     "output_type": "execute_result"
    }
   ],
   "source": [
    "lst.index(1)"
   ]
  },
  {
   "cell_type": "code",
   "execution_count": 49,
   "id": "c9838689",
   "metadata": {},
   "outputs": [
    {
     "data": {
      "text/plain": [
       "2"
      ]
     },
     "execution_count": 49,
     "metadata": {},
     "output_type": "execute_result"
    }
   ],
   "source": [
    "lst.index(1,1,4)"
   ]
  },
  {
   "cell_type": "code",
   "execution_count": 50,
   "id": "49c381d3",
   "metadata": {},
   "outputs": [
    {
     "data": {
      "text/plain": [
       "1"
      ]
     },
     "execution_count": 50,
     "metadata": {},
     "output_type": "execute_result"
    }
   ],
   "source": [
    "min(lst)"
   ]
  },
  {
   "cell_type": "code",
   "execution_count": 51,
   "id": "c0d0fdbf",
   "metadata": {},
   "outputs": [
    {
     "data": {
      "text/plain": [
       "3"
      ]
     },
     "execution_count": 51,
     "metadata": {},
     "output_type": "execute_result"
    }
   ],
   "source": [
    "max(lst)"
   ]
  },
  {
   "cell_type": "code",
   "execution_count": 52,
   "id": "589e161c",
   "metadata": {},
   "outputs": [
    {
     "data": {
      "text/plain": [
       "[1, 2, 1, 1, 2, 3, 1, 2, 1, 1, 2, 3]"
      ]
     },
     "execution_count": 52,
     "metadata": {},
     "output_type": "execute_result"
    }
   ],
   "source": [
    "lst*2"
   ]
  },
  {
   "cell_type": "markdown",
   "id": "301fe54e",
   "metadata": {},
   "source": [
    "# Sets"
   ]
  },
  {
   "cell_type": "code",
   "execution_count": 1,
   "id": "c8e08715",
   "metadata": {},
   "outputs": [],
   "source": [
    "set_var=set()"
   ]
  },
  {
   "cell_type": "code",
   "execution_count": 2,
   "id": "989fd998",
   "metadata": {},
   "outputs": [
    {
     "data": {
      "text/plain": [
       "set"
      ]
     },
     "execution_count": 2,
     "metadata": {},
     "output_type": "execute_result"
    }
   ],
   "source": [
    "type(set_var)"
   ]
  },
  {
   "cell_type": "code",
   "execution_count": 3,
   "id": "735f1093",
   "metadata": {},
   "outputs": [],
   "source": [
    "set_var={\"a\",\"b\",\"c\"}"
   ]
  },
  {
   "cell_type": "code",
   "execution_count": 4,
   "id": "60638c4f",
   "metadata": {},
   "outputs": [
    {
     "data": {
      "text/plain": [
       "{'a', 'b', 'c'}"
      ]
     },
     "execution_count": 4,
     "metadata": {},
     "output_type": "execute_result"
    }
   ],
   "source": [
    "set_var"
   ]
  },
  {
   "cell_type": "code",
   "execution_count": 5,
   "id": "b491a497",
   "metadata": {},
   "outputs": [],
   "source": [
    "set_var={1,1,2,3,4,5,5,5}"
   ]
  },
  {
   "cell_type": "code",
   "execution_count": 6,
   "id": "952bd035",
   "metadata": {},
   "outputs": [
    {
     "data": {
      "text/plain": [
       "{1, 2, 3, 4, 5}"
      ]
     },
     "execution_count": 6,
     "metadata": {},
     "output_type": "execute_result"
    }
   ],
   "source": [
    "set_var"
   ]
  },
  {
   "cell_type": "code",
   "execution_count": 7,
   "id": "7fa88fba",
   "metadata": {},
   "outputs": [
    {
     "ename": "TypeError",
     "evalue": "'set' object is not subscriptable",
     "output_type": "error",
     "traceback": [
      "\u001b[1;31m---------------------------------------------------------------------------\u001b[0m",
      "\u001b[1;31mTypeError\u001b[0m                                 Traceback (most recent call last)",
      "\u001b[1;32m<ipython-input-7-63ce0578eaa4>\u001b[0m in \u001b[0;36m<module>\u001b[1;34m\u001b[0m\n\u001b[1;32m----> 1\u001b[1;33m \u001b[0mset_var\u001b[0m\u001b[1;33m[\u001b[0m\u001b[1;36m0\u001b[0m\u001b[1;33m]\u001b[0m\u001b[1;33m\u001b[0m\u001b[1;33m\u001b[0m\u001b[0m\n\u001b[0m",
      "\u001b[1;31mTypeError\u001b[0m: 'set' object is not subscriptable"
     ]
    }
   ],
   "source": [
    "set_var[0]"
   ]
  },
  {
   "cell_type": "code",
   "execution_count": 8,
   "id": "5a5c8f55",
   "metadata": {},
   "outputs": [
    {
     "ename": "TypeError",
     "evalue": "'type' object is not subscriptable",
     "output_type": "error",
     "traceback": [
      "\u001b[1;31m---------------------------------------------------------------------------\u001b[0m",
      "\u001b[1;31mTypeError\u001b[0m                                 Traceback (most recent call last)",
      "\u001b[1;32m<ipython-input-8-277def9f1a83>\u001b[0m in \u001b[0;36m<module>\u001b[1;34m\u001b[0m\n\u001b[1;32m----> 1\u001b[1;33m \u001b[0mset\u001b[0m\u001b[1;33m[\u001b[0m\u001b[1;34m'1'\u001b[0m\u001b[1;33m]\u001b[0m\u001b[1;33m\u001b[0m\u001b[1;33m\u001b[0m\u001b[0m\n\u001b[0m",
      "\u001b[1;31mTypeError\u001b[0m: 'type' object is not subscriptable"
     ]
    }
   ],
   "source": [
    "set_var['1']"
   ]
  },
  {
   "cell_type": "code",
   "execution_count": 11,
   "id": "836dcc23",
   "metadata": {},
   "outputs": [],
   "source": [
    "set_var.add(10)"
   ]
  },
  {
   "cell_type": "code",
   "execution_count": 12,
   "id": "a9ff7792",
   "metadata": {},
   "outputs": [
    {
     "data": {
      "text/plain": [
       "{1, 2, 3, 4, 5, 10}"
      ]
     },
     "execution_count": 12,
     "metadata": {},
     "output_type": "execute_result"
    }
   ],
   "source": [
    "set_var"
   ]
  },
  {
   "cell_type": "code",
   "execution_count": 13,
   "id": "3e91181e",
   "metadata": {},
   "outputs": [],
   "source": [
    "set_var2={1,2,3,4,5,6,7,8,9,10}"
   ]
  },
  {
   "cell_type": "code",
   "execution_count": 14,
   "id": "7fb11a23",
   "metadata": {},
   "outputs": [
    {
     "data": {
      "text/plain": [
       "{6, 7, 8, 9}"
      ]
     },
     "execution_count": 14,
     "metadata": {},
     "output_type": "execute_result"
    }
   ],
   "source": [
    "set_var2.difference(set_var)"
   ]
  },
  {
   "cell_type": "code",
   "execution_count": 15,
   "id": "560c9259",
   "metadata": {},
   "outputs": [
    {
     "data": {
      "text/plain": [
       "{1, 2, 3, 4, 5, 10}"
      ]
     },
     "execution_count": 15,
     "metadata": {},
     "output_type": "execute_result"
    }
   ],
   "source": [
    "set_var2.intersection(set_var)"
   ]
  },
  {
   "cell_type": "code",
   "execution_count": 16,
   "id": "1e3e33ab",
   "metadata": {},
   "outputs": [],
   "source": [
    "set_var2.difference_update(set_var)"
   ]
  },
  {
   "cell_type": "code",
   "execution_count": 17,
   "id": "beeeecfe",
   "metadata": {},
   "outputs": [
    {
     "data": {
      "text/plain": [
       "{6, 7, 8, 9}"
      ]
     },
     "execution_count": 17,
     "metadata": {},
     "output_type": "execute_result"
    }
   ],
   "source": [
    "set_var2"
   ]
  },
  {
   "cell_type": "markdown",
   "id": "c8ac0d43",
   "metadata": {},
   "source": [
    "# Dict"
   ]
  },
  {
   "cell_type": "code",
   "execution_count": 18,
   "id": "36c22129",
   "metadata": {},
   "outputs": [],
   "source": [
    "dic={}"
   ]
  },
  {
   "cell_type": "code",
   "execution_count": 19,
   "id": "279b2bc6",
   "metadata": {},
   "outputs": [
    {
     "data": {
      "text/plain": [
       "dict"
      ]
     },
     "execution_count": 19,
     "metadata": {},
     "output_type": "execute_result"
    }
   ],
   "source": [
    "type(dic)"
   ]
  },
  {
   "cell_type": "code",
   "execution_count": 20,
   "id": "99e2f6a0",
   "metadata": {},
   "outputs": [],
   "source": [
    "my_dict={1:\"a\",2:\"b\",3:\"c\",4:\"d\"}"
   ]
  },
  {
   "cell_type": "code",
   "execution_count": 21,
   "id": "b3306fcf",
   "metadata": {},
   "outputs": [
    {
     "data": {
      "text/plain": [
       "'a'"
      ]
     },
     "execution_count": 21,
     "metadata": {},
     "output_type": "execute_result"
    }
   ],
   "source": [
    "my_dict[1]"
   ]
  },
  {
   "cell_type": "code",
   "execution_count": 22,
   "id": "523ffeb0",
   "metadata": {},
   "outputs": [
    {
     "name": "stdout",
     "output_type": "stream",
     "text": [
      "1\n",
      "2\n",
      "3\n",
      "4\n"
     ]
    }
   ],
   "source": [
    "for i in my_dict:\n",
    "    print(i)"
   ]
  },
  {
   "cell_type": "code",
   "execution_count": 23,
   "id": "4ed9d3a9",
   "metadata": {},
   "outputs": [
    {
     "name": "stdout",
     "output_type": "stream",
     "text": [
      "a\n",
      "b\n",
      "c\n",
      "d\n"
     ]
    }
   ],
   "source": [
    "for i in my_dict.values():\n",
    "    print(i)"
   ]
  },
  {
   "cell_type": "code",
   "execution_count": 24,
   "id": "6132b7e6",
   "metadata": {},
   "outputs": [
    {
     "name": "stdout",
     "output_type": "stream",
     "text": [
      "(1, 'a')\n",
      "(2, 'b')\n",
      "(3, 'c')\n",
      "(4, 'd')\n"
     ]
    }
   ],
   "source": [
    "for i in my_dict.items():\n",
    "    print(i)"
   ]
  },
  {
   "cell_type": "code",
   "execution_count": 25,
   "id": "77abe322",
   "metadata": {},
   "outputs": [],
   "source": [
    "my_dict[5]='e'"
   ]
  },
  {
   "cell_type": "code",
   "execution_count": 26,
   "id": "80a95116",
   "metadata": {},
   "outputs": [
    {
     "data": {
      "text/plain": [
       "{1: 'a', 2: 'b', 3: 'c', 4: 'd', 5: 'e'}"
      ]
     },
     "execution_count": 26,
     "metadata": {},
     "output_type": "execute_result"
    }
   ],
   "source": [
    "my_dict"
   ]
  },
  {
   "cell_type": "code",
   "execution_count": 27,
   "id": "e13ee32b",
   "metadata": {},
   "outputs": [],
   "source": [
    "my_dict[1]='N'"
   ]
  },
  {
   "cell_type": "code",
   "execution_count": 28,
   "id": "3cd50889",
   "metadata": {},
   "outputs": [
    {
     "data": {
      "text/plain": [
       "{1: 'N', 2: 'b', 3: 'c', 4: 'd', 5: 'e'}"
      ]
     },
     "execution_count": 28,
     "metadata": {},
     "output_type": "execute_result"
    }
   ],
   "source": [
    "my_dict"
   ]
  },
  {
   "cell_type": "markdown",
   "id": "dcf9e8d5",
   "metadata": {},
   "source": [
    "## Nested Dict"
   ]
  },
  {
   "cell_type": "code",
   "execution_count": 29,
   "id": "adf22b4c",
   "metadata": {},
   "outputs": [],
   "source": [
    "name1={'Nitesh1':'Ranjan1'}\n",
    "name2={'Nitesh2':'Ranjan2'}\n",
    "name3={'Nitesh3':'Ranjan3'}\n",
    "\n",
    "Full={'Nitesh1':name1,'Nitesh2':name2,'Nitesh3':name3}"
   ]
  },
  {
   "cell_type": "code",
   "execution_count": 30,
   "id": "79946192",
   "metadata": {},
   "outputs": [
    {
     "data": {
      "text/plain": [
       "{'Nitesh1': {'Nitesh1': 'Ranjan1'},\n",
       " 'Nitesh2': {'Nitesh2': 'Ranjan2'},\n",
       " 'Nitesh3': {'Nitesh3': 'Ranjan3'}}"
      ]
     },
     "execution_count": 30,
     "metadata": {},
     "output_type": "execute_result"
    }
   ],
   "source": [
    "Full"
   ]
  },
  {
   "cell_type": "code",
   "execution_count": 33,
   "id": "012cdf7c",
   "metadata": {},
   "outputs": [
    {
     "ename": "NameError",
     "evalue": "name 'Nitesh2' is not defined",
     "output_type": "error",
     "traceback": [
      "\u001b[1;31m---------------------------------------------------------------------------\u001b[0m",
      "\u001b[1;31mNameError\u001b[0m                                 Traceback (most recent call last)",
      "\u001b[1;32m<ipython-input-33-f50080cc2ee7>\u001b[0m in \u001b[0;36m<module>\u001b[1;34m\u001b[0m\n\u001b[1;32m----> 1\u001b[1;33m \u001b[0mFull\u001b[0m\u001b[1;33m[\u001b[0m\u001b[0mNitesh2\u001b[0m\u001b[1;33m]\u001b[0m\u001b[1;33m\u001b[0m\u001b[1;33m\u001b[0m\u001b[0m\n\u001b[0m",
      "\u001b[1;31mNameError\u001b[0m: name 'Nitesh2' is not defined"
     ]
    }
   ],
   "source": [
    "Full[Nitesh2]"
   ]
  },
  {
   "cell_type": "markdown",
   "id": "ca78e6eb",
   "metadata": {},
   "source": [
    "# Tuples"
   ]
  },
  {
   "cell_type": "code",
   "execution_count": 34,
   "id": "2610b959",
   "metadata": {},
   "outputs": [],
   "source": [
    "my_tuple=tuple()"
   ]
  },
  {
   "cell_type": "code",
   "execution_count": 35,
   "id": "c59e1b93",
   "metadata": {},
   "outputs": [
    {
     "data": {
      "text/plain": [
       "tuple"
      ]
     },
     "execution_count": 35,
     "metadata": {},
     "output_type": "execute_result"
    }
   ],
   "source": [
    "type(my_tuple)"
   ]
  },
  {
   "cell_type": "code",
   "execution_count": 36,
   "id": "86651075",
   "metadata": {},
   "outputs": [],
   "source": [
    "t=(\"Nitesh\",\"Ranjan\",\"Singh\")"
   ]
  },
  {
   "cell_type": "code",
   "execution_count": 37,
   "id": "0b320cbb",
   "metadata": {},
   "outputs": [
    {
     "data": {
      "text/plain": [
       "'Ranjan'"
      ]
     },
     "execution_count": 37,
     "metadata": {},
     "output_type": "execute_result"
    }
   ],
   "source": [
    "t[1]"
   ]
  },
  {
   "cell_type": "code",
   "execution_count": 38,
   "id": "e1dd895b",
   "metadata": {},
   "outputs": [
    {
     "ename": "TypeError",
     "evalue": "'tuple' object does not support item assignment",
     "output_type": "error",
     "traceback": [
      "\u001b[1;31m---------------------------------------------------------------------------\u001b[0m",
      "\u001b[1;31mTypeError\u001b[0m                                 Traceback (most recent call last)",
      "\u001b[1;32m<ipython-input-38-550a2aa8a971>\u001b[0m in \u001b[0;36m<module>\u001b[1;34m\u001b[0m\n\u001b[1;32m----> 1\u001b[1;33m \u001b[0mt\u001b[0m\u001b[1;33m[\u001b[0m\u001b[1;36m1\u001b[0m\u001b[1;33m]\u001b[0m\u001b[1;33m=\u001b[0m\u001b[1;34m'ranjan'\u001b[0m\u001b[1;33m\u001b[0m\u001b[1;33m\u001b[0m\u001b[0m\n\u001b[0m",
      "\u001b[1;31mTypeError\u001b[0m: 'tuple' object does not support item assignment"
     ]
    }
   ],
   "source": [
    "t[1]='ranjan'"
   ]
  },
  {
   "cell_type": "code",
   "execution_count": 39,
   "id": "c3b7c0b7",
   "metadata": {},
   "outputs": [],
   "source": [
    "t=('nitesh')"
   ]
  },
  {
   "cell_type": "code",
   "execution_count": 40,
   "id": "d9dd0387",
   "metadata": {},
   "outputs": [
    {
     "data": {
      "text/plain": [
       "'nitesh'"
      ]
     },
     "execution_count": 40,
     "metadata": {},
     "output_type": "execute_result"
    }
   ],
   "source": [
    "t"
   ]
  },
  {
   "cell_type": "code",
   "execution_count": null,
   "id": "bde37169",
   "metadata": {},
   "outputs": [],
   "source": []
  },
  {
   "cell_type": "code",
   "execution_count": null,
   "id": "58003b25",
   "metadata": {},
   "outputs": [],
   "source": []
  }
 ],
 "metadata": {
  "kernelspec": {
   "display_name": "Python 3",
   "language": "python",
   "name": "python3"
  },
  "language_info": {
   "codemirror_mode": {
    "name": "ipython",
    "version": 3
   },
   "file_extension": ".py",
   "mimetype": "text/x-python",
   "name": "python",
   "nbconvert_exporter": "python",
   "pygments_lexer": "ipython3",
   "version": "3.8.10"
  }
 },
 "nbformat": 4,
 "nbformat_minor": 5
}
